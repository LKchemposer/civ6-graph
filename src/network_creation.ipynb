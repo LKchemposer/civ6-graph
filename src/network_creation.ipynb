{
 "cells": [
  {
   "cell_type": "code",
   "execution_count": 1,
   "metadata": {},
   "outputs": [
    {
     "name": "stdout",
     "output_type": "stream",
     "text": [
      "Populating the interactive namespace from numpy and matplotlib\n"
     ]
    }
   ],
   "source": [
    "import pandas as pd\n",
    "import networkx as nx\n",
    "%pylab inline\n",
    "\n",
    "from collections import Counter"
   ]
  },
  {
   "cell_type": "code",
   "execution_count": 2,
   "metadata": {},
   "outputs": [],
   "source": [
    "tables = pd.read_csv('./data/Tables.csv')\n",
    "\n",
    "csvs = tables['Table'].unique()\n",
    "index_cols = [csv.replace('ies', 'y') if csv.endswith('ies') else csv.rstrip('s') for csv in csvs]\n",
    "zipped = dict(zip(csvs, index_cols))\n",
    "\n",
    "entities = {\n",
    "    csv: pd.read_csv('./data/{}.csv'.format(csv), index_col=index_col).replace({\n",
    "        np.nan: None\n",
    "    }) for csv, index_col in zipped.items()\n",
    "}"
   ]
  },
  {
   "cell_type": "code",
   "execution_count": 3,
   "metadata": {},
   "outputs": [],
   "source": [
    "# mismatch repr.\n",
    "entities['Resources'].loc['Uranium', 'Enables'] = 'Nuclear Device, Thermonuclear Device, Nuclear Submarine, Modern Armor'\n",
    "entities['Units'].loc['Rough Rider']['Unique to'] = 'Teddy Roosevelt'\n",
    "\n",
    "# typos\n",
    "entities['Policies'].loc[['Ilkum', 'Agoge'], 'Civic'] = 'Craftsmanship'\n",
    "entities['Units'].loc['Maryannu Chariot Archer'][['Unique to', 'Replaces']] = pd.Series(['Egyptian', 'Heavy Chariot'])"
   ]
  },
  {
   "cell_type": "code",
   "execution_count": 4,
   "metadata": {},
   "outputs": [],
   "source": [
    "cost_cols = dict(zip(['Technologies', 'Wonders'], ['Science', 'Production']))\n",
    "for csv, df in entities.items():\n",
    "    \n",
    "    # make table-specific Type attribute \n",
    "    if 'Type' in df.columns:\n",
    "        df.rename(columns={\n",
    "            'Type': df.index.name + ' Type'\n",
    "        }, inplace=True)\n",
    "        \n",
    "    # add node Type attribute\n",
    "    df['Type'] = df.index.name\n",
    "    tables = tables.append(pd.DataFrame({\n",
    "        'Table': csv,\n",
    "        'Columns': 'Type',\n",
    "        'Repr.': 'Attribute'\n",
    "    }, index=range(1)), sort=False, ignore_index=True)\n",
    "    \n",
    "    # change Cost columns to units\n",
    "    if csv in cost_cols.keys():\n",
    "        df.rename(columns={\n",
    "            'Cost': cost_cols[csv]\n",
    "        }, inplace=True)\n",
    "        tables.loc[(tables['Table'] == csv) & (tables['Columns'] == 'Cost'), 'Columns'] = cost_cols[csv]"
   ]
  },
  {
   "cell_type": "code",
   "execution_count": 5,
   "metadata": {},
   "outputs": [],
   "source": [
    "G = nx.DiGraph()\n",
    "\n",
    "attrs_cols = (tables[tables['Repr.'] == 'Attribute']\n",
    "              .groupby('Table')\n",
    "              ['Columns'].apply(list)\n",
    "              .items())\n",
    "\n",
    "for csv, cols in attrs_cols:\n",
    "    cost_cols = [col for col in cols if col in ['Cost', 'Stats']]\n",
    "    cols = [col for col in cols if col not in cost_cols]\n",
    "    \n",
    "    nodes = [(node, {\n",
    "        attr: val for attr, val in attrs.items() if val\n",
    "    }) for node, attrs in entities[csv][cols].to_dict('index').items()]\n",
    "    G.add_nodes_from(nodes)\n",
    "    \n",
    "    nx.set_node_attributes(G, {\n",
    "        n: {\n",
    "            'Type': zipped[csv]\n",
    "        } for n in [node[0] for node in nodes]\n",
    "    })\n",
    "    \n",
    "    if cost_cols:\n",
    "        costs = {\n",
    "            node: {\n",
    "                c.split(': ')[0]: int(c.split(': ')[1]) for cs in costs.values() if cs for c in cs.split(', ')\n",
    "            } for node, costs in entities[csv][cost_cols].to_dict('index').items()\n",
    "        }\n",
    "        nx.set_node_attributes(G, costs)"
   ]
  },
  {
   "cell_type": "code",
   "execution_count": 6,
   "metadata": {},
   "outputs": [],
   "source": [
    "edge_cols = (tables[(tables['Repr.'] == 'Edge') & (tables['Notes'] != 'Redundancy')]\n",
    "             .groupby(['Table', 'Edge Type'])\n",
    "             ['Columns'].apply(list)\n",
    "             .items())\n",
    "\n",
    "for (csv, edge_key), cols in edge_cols:\n",
    "    for col in cols:\n",
    "        edges = list(entities[csv][col]\n",
    "                     .str.split(', ', expand=True)\n",
    "                     .stack()\n",
    "                     .reset_index(level=-1, drop=True)\n",
    "                     .items())\n",
    "        \n",
    "        edges, edge_type = ([(v, u) for u, v in edges], edge_key.split(', ')[0]) if 'reverse' in edge_key else (edges, edge_key)\n",
    "        G.add_edges_from(edges, Type=edge_type)\n",
    "        \n",
    "        if col == 'Unique to':\n",
    "            specs = {\n",
    "                node: {\n",
    "                    'Specificity': 'Civilization'\n",
    "                } for edge in edges for node in edge\n",
    "            }\n",
    "            nx.set_node_attributes(G, specs)"
   ]
  },
  {
   "cell_type": "code",
   "execution_count": 7,
   "metadata": {},
   "outputs": [],
   "source": [
    "edge_cols = (tables[tables['Repr.'] == 'Node, Edge']\n",
    "         .groupby(['Table', 'Edge Type'])\n",
    "         ['Columns'].apply(list)\n",
    "         .items())\n",
    "casus = [\n",
    "    'Holy War', 'Liberation', 'Reconquest', 'Protectorate', 'War of Retribution',\n",
    "    'War of Territorial Expansion', 'War of Territorial Expansion'\n",
    "]\n",
    "\n",
    "for (csv, edge_key), cols in edge_cols:\n",
    "    for col in cols:\n",
    "        edges = list(entities[csv][col]\n",
    "                     .str.split(', ', expand=True)\n",
    "                     .stack()\n",
    "                     .str.replace('Casus Belli: ', '')\n",
    "                     .reset_index(level=-1, drop=True)\n",
    "                     .items())\n",
    "        edges, edge_type = ([(v, u) for u, v in edges], edge_key.split(', ')[0]) if 'reverse' in edge_key else (edges, edge_key)\n",
    "        G.add_edges_from(edges, Type=edge_type)\n",
    "        \n",
    "        types = {\n",
    "            dip.replace('Casus Belli: ', ''): {\n",
    "                'Type': 'Casus Belli'\n",
    "            } if dip.replace('Casus Belli: ', '') in casus else {\n",
    "                'Type': 'Diplomacy'\n",
    "            } for _, dip in edges\n",
    "        } if col == 'Diplomacies' else {\n",
    "            leader: {\n",
    "                'Type': 'Leader(s)'\n",
    "            } for _, leader in edges \n",
    "        } if col == 'Leader(s)' else {\n",
    "            city: {\n",
    "                'Type': 'City-state'\n",
    "            } for city, _ in edges if city not in entities['Civilizations'].index\n",
    "        }\n",
    "        nx.set_node_attributes(G, types)\n",
    "        \n",
    "        if col == 'Unique to':\n",
    "            specs = {\n",
    "                node: {\n",
    "                    'Specificity': 'Civilization'\n",
    "                } for edge in edges for node in edge\n",
    "            }\n",
    "            nx.set_node_attributes(G, specs)"
   ]
  },
  {
   "cell_type": "code",
   "execution_count": 8,
   "metadata": {},
   "outputs": [],
   "source": [
    "nuc_attrs = {\n",
    "    nuc: {\n",
    "        'Type': 'Atomic Weapon'\n",
    "    } for nuc in ['Nuclear Device', 'Thermonuclear Device']\n",
    "}\n",
    "nx.set_node_attributes(G, nuc_attrs)"
   ]
  },
  {
   "cell_type": "code",
   "execution_count": 9,
   "metadata": {},
   "outputs": [],
   "source": [
    "builds = [('Builder', improvement, {\n",
    "    'Type': 'Builds'\n",
    "}) for improvement in entities['Improvements'].index]\n",
    "G.add_edges_from(builds)"
   ]
  },
  {
   "cell_type": "code",
   "execution_count": 10,
   "metadata": {},
   "outputs": [],
   "source": [
    "# remove edge redundancy from nodes with \"replaces\" edge\n",
    "replaces = [u for (u, v), p in nx.get_edge_attributes(G, 'Type').items() if p == 'Replaces']\n",
    "removes = [(u, v) for (u, v), p in nx.get_edge_attributes(G, 'Type').items() if p != 'Replaces' and u in replaces and 'Carnival' not in u]\n",
    "G.remove_edges_from(removes)"
   ]
  },
  {
   "cell_type": "code",
   "execution_count": 11,
   "metadata": {},
   "outputs": [],
   "source": [
    "GS_nodes = ['Force Modernization', 'Buttress', 'Courser']\n",
    "isolates = list(nx.isolates(G))\n",
    "G.remove_nodes_from(GS_nodes + isolates)"
   ]
  },
  {
   "cell_type": "code",
   "execution_count": 13,
   "metadata": {},
   "outputs": [],
   "source": [
    "eurekas = nx.get_node_attributes(G, 'Eureka')\n",
    "insps = nx.get_node_attributes(G, 'Inspiration')"
   ]
  },
  {
   "cell_type": "code",
   "execution_count": 14,
   "metadata": {},
   "outputs": [],
   "source": [
    "eureka_nodes = [\n",
    "    '', '', '', '', 'Slinger', 'Quarry', '', '', '', 'Trader', 'Pasture', 'Iron',\n",
    "    'Galley', '', 'Water Mill', 'Ancient Walls', 'Spearman', 'Mine', 'Feudalism', 'Archer',\n",
    "    '', 'Aqueduct', '', 'Harbor', 'Lumber Mill', 'Guilds', 'Armory', 'University', 'Musketman',\n",
    "    'University', 'Crossbowman', 'Bombard', 'Workshop', 'The Enlightenment', 'Fort', 'Knight',\n",
    "    'Shipyard', 'Neighborhood', 'Bank', 'Niter', '', 'Musketman', ['Coal, Ironclad'], 'Privateer', '',\n",
    "    'Research Agreement', 'Artifacts', 'Biplane', 'Spy', 'Power Plant', 'Airstrip', 'Oil Well',\n",
    "    '', 'Spy', 'Aerodrome', 'Broadcast Center', 'Spy', '', 'Spy', 'Tank', 'Spy',\n",
    "    'Globalization', 'Spy', 'Aluminum'\n",
    "]"
   ]
  },
  {
   "cell_type": "code",
   "execution_count": 15,
   "metadata": {},
   "outputs": [],
   "source": [
    "insp_nodes = [\n",
    "    'Stock Exchange', '', '', 'Factory', 'Nuclear Fission', 'Astronomy', 'Neighborhood', '', '', '', 'Alliances',\n",
    "    'Temple', '', '', 'Caravel', 'Farm', '', 'Construction', 'Airport', 'Market', '', 'Radio', 'Trader', '', '', '',\n",
    "    'Encampment', '', '', '', 'Archaeological Museum', 'Quadrireme', 'Research Lab', 'Art Museum', '',\n",
    "    'Entertainment Complex', '', 'Campus', '', 'Field Cannon', 'Telecommunications', 'Spaceport', '', 'Sewer', '', '',\n",
    "    'Military Academy', ''\n",
    "]"
   ]
  },
  {
   "cell_type": "code",
   "execution_count": 16,
   "metadata": {},
   "outputs": [],
   "source": [
    "eureka_boosts = []\n",
    "for (v, boost), u in zip(eurekas.items(), eureka_nodes):\n",
    "    if u:\n",
    "        if not isinstance(u, list):\n",
    "            eureka_boosts.append((u, v, {\n",
    "                'Type': 'Boosts',\n",
    "                'Boost': boost\n",
    "            }))\n",
    "        else:\n",
    "            for n in u[0].split(', '):\n",
    "                eureka_boosts.append((n, v, {\n",
    "                    'Type': 'Boosts',\n",
    "                    'Boost': boost\n",
    "                }))\n",
    "G.add_edges_from(eureka_boosts)\n",
    "                \n",
    "                \n",
    "insp_boosts = [(u, v, {\n",
    "    'Type': 'Boosts',\n",
    "    'Boost': boost\n",
    "}) for (v, boost), u in zip(insps.items(), insp_nodes) if u]\n",
    "G.add_edges_from(insp_boosts)"
   ]
  },
  {
   "cell_type": "code",
   "execution_count": 17,
   "metadata": {},
   "outputs": [
    {
     "name": "stdout",
     "output_type": "stream",
     "text": [
      "Name: \n",
      "Type: DiGraph\n",
      "Number of nodes: 627\n",
      "Number of edges: 1125\n",
      "Average in degree:   1.7943\n",
      "Average out degree:   1.7943\n"
     ]
    }
   ],
   "source": [
    "print(nx.info(G))"
   ]
  },
  {
   "cell_type": "code",
   "execution_count": 19,
   "metadata": {},
   "outputs": [
    {
     "data": {
      "text/plain": [
       "Counter({'Boosts': 77,\n",
       "         'Builds': 34,\n",
       "         'Harvests': 11,\n",
       "         'Obsoletes': 87,\n",
       "         'Replaces': 43,\n",
       "         'Reveals': 8,\n",
       "         'Unlocks': 802,\n",
       "         'Upgrades': 63})"
      ]
     },
     "execution_count": 19,
     "metadata": {},
     "output_type": "execute_result"
    }
   ],
   "source": [
    "Counter(nx.get_edge_attributes(G, 'Type').values())"
   ]
  },
  {
   "cell_type": "code",
   "execution_count": 26,
   "metadata": {},
   "outputs": [],
   "source": [
    "# nx.write_graphml(G, 'civ.graphml')"
   ]
  },
  {
   "cell_type": "code",
   "execution_count": null,
   "metadata": {},
   "outputs": [],
   "source": []
  }
 ],
 "metadata": {
  "kernelspec": {
   "display_name": "Python 3",
   "language": "python",
   "name": "python3"
  },
  "language_info": {
   "codemirror_mode": {
    "name": "ipython",
    "version": 3
   },
   "file_extension": ".py",
   "mimetype": "text/x-python",
   "name": "python",
   "nbconvert_exporter": "python",
   "pygments_lexer": "ipython3",
   "version": "3.6.4"
  },
  "widgets": {
   "application/vnd.jupyter.widget-state+json": {
    "state": {},
    "version_major": 2,
    "version_minor": 0
   }
  }
 },
 "nbformat": 4,
 "nbformat_minor": 4
}
