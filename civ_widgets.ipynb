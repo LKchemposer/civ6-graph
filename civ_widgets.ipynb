{
 "cells": [
  {
   "cell_type": "code",
   "execution_count": 1,
   "metadata": {},
   "outputs": [],
   "source": [
    "import networkx as nx\n",
    "import igraph as ig\n",
    "import plotly\n",
    "import plotly.graph_objects as go\n",
    "import ipywidgets as widgets\n",
    "\n",
    "import textwrap\n",
    "\n",
    "from IPython.display import clear_output"
   ]
  },
  {
   "cell_type": "code",
   "execution_count": 3,
   "metadata": {},
   "outputs": [],
   "source": [
    "G = nx.read_graphml('./civ_wboost.graphml')"
   ]
  },
  {
   "cell_type": "markdown",
   "metadata": {},
   "source": [
    "* [x] Draw function\n",
    "    * [x] Brainstorm features\n",
    "* [x] Plotly display\n",
    "    * [x] Tooltip\n",
    "    * [x] plotlywidgets\n",
    "* [x] Color functions\n",
    "* [x] Widget event callback"
   ]
  },
  {
   "cell_type": "raw",
   "metadata": {},
   "source": [
    "FEATURES\n",
    "* node type filter\n",
    "* edge type filter\n",
    "* color node by\n",
    "* disable civ specificity"
   ]
  },
  {
   "cell_type": "raw",
   "metadata": {},
   "source": [
    "STACK\n",
    "* networkx: graph basis, ego graph\n",
    "* igraph: layout\n",
    "* plotly: display, tooltip"
   ]
  },
  {
   "cell_type": "raw",
   "metadata": {},
   "source": [
    "WIDGET BRAINSTORM\n",
    "\n",
    "* G: fixed\n",
    "* node: combobox?\n",
    "* direction: toggle button\n",
    "* node types: multiselect\n",
    "* edge types: multiselect\n",
    "* color node by: toggle button\n",
    "* disable spec: toggle? checkbox?\n",
    "\n",
    "* plot on click"
   ]
  },
  {
   "cell_type": "code",
   "execution_count": 4,
   "metadata": {},
   "outputs": [],
   "source": [
    "def colornode(by):\n",
    "    if by == 'Era':\n",
    "        ERAS = ['Ancient Era','Classical Era', 'Medieval Era', 'Renaissance Era', 'Industrial Era', 'Modern Era', 'Atomic Era', 'Information Era', 'None']\n",
    "        index = dict(zip(ERAS, plotly.colors.qualitative.G10))\n",
    "    elif by == 'Type':\n",
    "        TYPES = ['Building', 'Civic', 'Civilization', 'District', 'Government', 'Improvement', 'Policy', 'Project', 'Resource', 'Technology', 'Unit', 'Wonder', 'Atomic Weapon', 'Leader(s)', 'Diplomacy', 'Casus Belli', 'City-state', 'None']\n",
    "        index = dict(zip(TYPES, plotly.colors.qualitative.Dark24))\n",
    "    color_func = lambda G: [index[v] for _, v in sorted(G.nodes.data(by, default='None'))]\n",
    "    return color_func\n",
    "\n",
    "def coloredge():\n",
    "    TYPES = ['Unlocks', 'Boosts', 'Replaces', 'Obsoletes', 'Reveals', 'Harvests', 'Upgrades', 'Builds'] \n",
    "    index = dict(zip(TYPES, ['#808080'] + plotly.colors.qualitative.D3))\n",
    "    return index"
   ]
  },
  {
   "cell_type": "code",
   "execution_count": 19,
   "metadata": {},
   "outputs": [],
   "source": [
    "def build_plotly(G, coords, colornodeby):\n",
    "    # nodes, edges\n",
    "    nX, nY = zip(*[n[1] for n in sorted(coords.items(), key=lambda n: n[0])])\n",
    "    eX, eY = [[(coords[u][i], coords[v][i]) for u, v in G.edges()] for i in range(2)]\n",
    "    \n",
    "    # arrow edges\n",
    "    edge_colors = [coloredge()[edge] for edge in nx.get_edge_attributes(G, 'Type').values()]\n",
    "    arrows = dict(showarrow=True, arrowhead=3, arrowsize=1.5, axref='x', ayref='y', standoff=10, startstandoff=10)\n",
    "    annotations = [dict(x=x[0], y=y[0], ax=x[1], ay=y[1], arrowcolor=color, **arrows) for x, y, color in zip(eX, eY, edge_colors)]\n",
    "    \n",
    "    # tooltips\n",
    "    wrap = lambda i: '<br>'.join(textwrap.wrap(str(i)))\n",
    "    lines = lambda attrs: '<br>'.join(['<b>{}:</b> {}'.format(k, wrap(v)) for k, v in attrs.items()])\n",
    "    tips = [lines(attrs) for _, attrs in sorted(G.nodes.data(default='None'))]\n",
    "\n",
    "    # layout\n",
    "    marker = dict(size=10, line_width=2)\n",
    "    axes = dict({\n",
    "        axis : dict(showgrid=False, zeroline=False, showticklabels=False) for axis in ['xaxis', 'yaxis']\n",
    "    })\n",
    "    layout = dict(annotations=annotations, **axes, showlegend=True, margin=dict(t=30, l=10, b=10, r=10), plot_bgcolor='white', height=800, legend_title_text='<b>Edge Types</b>')\n",
    "    \n",
    "    nodes = go.Scatter(x=nX, y=nY, mode='markers+text', hoverinfo='text', marker=marker, textposition='top center', textfont_size=14, showlegend=False)\n",
    "    nodes.hovertext = tips\n",
    "    nodes.text = sorted(G.nodes)\n",
    "    nodes.marker.color = colornode(by=colornodeby)(G)\n",
    "    \n",
    "    traces = [go.Scatter(name=edge, marker_color=color, x=[0], y=[0], marker_size=1, hoverinfo='skip') for edge, color in coloredge().items()]\n",
    "\n",
    "    fig = go.Figure(data=nodes, layout=go.Layout(layout))\n",
    "    fig.add_traces(traces) # add edge legend\n",
    "    \n",
    "    fig.show()"
   ]
  },
  {
   "cell_type": "code",
   "execution_count": 67,
   "metadata": {},
   "outputs": [],
   "source": [
    "def draw_network(G, node, direction, radius, nodetypes, edgetypes, colornodeby, enablespec):\n",
    "    if not node:\n",
    "        message = 'Please select an Entity.'\n",
    "        print(message)\n",
    "        return\n",
    "    \n",
    "    node = node.split(' - ')[0]\n",
    "    \n",
    "    if isinstance(nodetypes, (list, tuple)) and 'All' not in nodetypes:\n",
    "        nodes = [n for n, v in nx.get_node_attributes(G, 'Type').items() if v in nodetypes]\n",
    "        \n",
    "        if node not in nodes:\n",
    "            message = '{} is not in this network due to your selected Node Types.\\nPlease include {} in the Node Types parameter'.format(node, G.nodes.data()[node]['Type'])\n",
    "            print(message)\n",
    "            return\n",
    "        \n",
    "        G = G.subgraph(nodes)\n",
    "    \n",
    "    if not (G.nodes.data()[node].get('Specificity') or enablespec):\n",
    "        nodes = [n for n in G.nodes() if n not in nx.get_node_attributes(G, 'Specificity').keys()]\n",
    "        G = G.subgraph(nodes)\n",
    "    \n",
    "    # G, node, direction\n",
    "    both = True if direction == 'Both' else False\n",
    "    forward = G if direction == 'Forward' else G.reverse()\n",
    "    ego = nx.ego_graph(G=forward, n=node, radius=radius, undirected=both)\n",
    "    ego = ego.reverse() if direction == 'Forward' else ego # flip arrow directions for display\n",
    "    \n",
    "    if isinstance(edgetypes, (list, tuple)) and 'All' not in edgetypes: \n",
    "        edges = [e for e, v in nx.get_edge_attributes(ego, 'Type').items() if v in edgetypes]\n",
    "        ego = ego.edge_subgraph(edges)\n",
    "        if len(ego.edges) < 1:\n",
    "            message = 'There are no edges in this network due to your selected Edge Types.\\nPlease include more Edge Types.'\n",
    "            print(message)\n",
    "            return\n",
    "        \n",
    "    if len(ego.edges) < 1:\n",
    "        message = 'There are no edges in this network.\\nPlease include more Node Types or change Direction.'\n",
    "        print(message)\n",
    "        return\n",
    "    \n",
    "    LIMIT = 100\n",
    "    if len(ego.nodes) > LIMIT:\n",
    "        message = 'There are more than {} nodes in this network, which slows down graph drawing significantly.\\nPlease decrease Radius, select fewer Node or Edge Types, or change Direction.'.format(LIMIT)\n",
    "        print(message)\n",
    "        return\n",
    "    \n",
    "    # igraph layout\n",
    "    ego_ig = ig.Graph.TupleList(ego.edges(), directed=True)\n",
    "    coords = dict(zip(ego_ig.vs['name'], ego_ig.layout('kk').coords))\n",
    "    \n",
    "    build_plotly(ego, coords, colornodeby)"
   ]
  },
  {
   "cell_type": "code",
   "execution_count": 68,
   "metadata": {},
   "outputs": [],
   "source": [
    "ENTITIES = sorted(['{} - {}'.format(n, v) for n, v in nx.get_node_attributes(G, 'Type').items()])\n",
    "wg_node = widgets.Combobox(options=ENTITIES,\n",
    "                           description='Entity',\n",
    "                           placeholder='Choose an entity',\n",
    "                           ensure_option=True)\n",
    "\n",
    "wg_radius = widgets.IntSlider(value=3,\n",
    "                              min=1,\n",
    "                              max=15,\n",
    "                              step=1,\n",
    "                              description='Radius')\n",
    "\n",
    "wg_direction = widgets.ToggleButtons(options=['Forward', 'Backward', 'Both'],\n",
    "                                     description='Direction')\n",
    "\n",
    "NODETYPES = ['Building', 'Civic', 'Civilization', 'District', 'Government', 'Improvement', 'Policy', 'Project', 'Resource', 'Technology', 'Unit', 'Wonder',\n",
    "             'Atomic Weapon', 'Leader(s)', 'Diplomacy', 'Casus Belli', 'City-state']\n",
    "wg_nodetypes = widgets.SelectMultiple(options=sorted(['All'] + NODETYPES),\n",
    "                                      value=['All'],\n",
    "                                      ensure_option=True,\n",
    "                                      description='Node Types')\n",
    "\n",
    "EDGETYPES = ['Unlocks', 'Boosts', 'Replaces', 'Obsoletes', 'Reveals', 'Harvests', 'Upgrades', 'Builds'] \n",
    "wg_edgetypes = widgets.SelectMultiple(options=['All'] + EDGETYPES,\n",
    "                                      value=['All'],\n",
    "                                      ensure_option=True,\n",
    "                                      description='Edge Types')\n",
    "\n",
    "wg_colornodeby = widgets.ToggleButtons(options=[('Era', 'Era'), ('Node Type', 'Type')],\n",
    "                                       description='Color By')\n",
    "\n",
    "wg_enablespec = widgets.Checkbox(value=False, description='Include Entities Unique to Civs')\n",
    "\n",
    "wg_drawbutton = widgets.Button(description='Draw Network')"
   ]
  },
  {
   "cell_type": "code",
   "execution_count": 72,
   "metadata": {},
   "outputs": [
    {
     "data": {
      "application/vnd.jupyter.widget-view+json": {
       "model_id": "d409b3a96b7044769ac52b1fd404f636",
       "version_major": 2,
       "version_minor": 0
      },
      "text/plain": [
       "VBox(children=(HBox(children=(Combobox(value='Aerodrome - District', description='Entity', ensure_option=True,…"
      ]
     },
     "metadata": {},
     "output_type": "display_data"
    }
   ],
   "source": [
    "output = widgets.Output()\n",
    "\n",
    "def draw(_):\n",
    "    with output:\n",
    "        clear_output()\n",
    "        draw_network(G, node=wg_node.value, radius=wg_radius.value, direction=wg_direction.value, nodetypes=wg_nodetypes.value,\n",
    "                     edgetypes=wg_edgetypes.value, colornodeby=wg_colornodeby.value, enablespec=wg_enablespec.value)\n",
    "\n",
    "\n",
    "wg_drawbutton.on_click(draw)\n",
    "\n",
    "widgets.VBox([widgets.HBox([wg_node, wg_radius]), wg_direction, widgets.HBox([wg_nodetypes, wg_edgetypes]), wg_colornodeby, wg_enablespec, wg_drawbutton, output])"
   ]
  },
  {
   "cell_type": "code",
   "execution_count": null,
   "metadata": {},
   "outputs": [],
   "source": []
  }
 ],
 "metadata": {
  "kernelspec": {
   "display_name": "Python 3",
   "language": "python",
   "name": "python3"
  },
  "language_info": {
   "codemirror_mode": {
    "name": "ipython",
    "version": 3
   },
   "file_extension": ".py",
   "mimetype": "text/x-python",
   "name": "python",
   "nbconvert_exporter": "python",
   "pygments_lexer": "ipython3",
   "version": "3.6.4"
  }
 },
 "nbformat": 4,
 "nbformat_minor": 4
}
